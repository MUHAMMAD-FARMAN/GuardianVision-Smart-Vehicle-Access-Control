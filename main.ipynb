{
 "cells": [
  {
   "cell_type": "code",
   "execution_count": null,
   "metadata": {},
   "outputs": [],
   "source": [
    "import cv2\n",
    "import threading\n",
    "import winsound \n",
    "from ultralytics import YOLO"
   ]
  },
  {
   "cell_type": "code",
   "execution_count": null,
   "metadata": {},
   "outputs": [],
   "source": [
    "\n",
    "# Define the color of the line in BGR format (blue, green, red)\n",
    "line_color = (0, 255, 0) \n",
    "\n",
    "# Define the thickness of the line\n",
    "line_thickness = 2\n",
    "\n",
    "# Define the start and end points of the line (x, y)\n",
    "start_point = (1000, 0)\n",
    "end_point = (1000, 720)\n",
    "\n",
    "#Object_Ids\n",
    "object_Ids =[8]"
   ]
  },
  {
   "cell_type": "code",
   "execution_count": null,
   "metadata": {},
   "outputs": [],
   "source": [
    "def check_line_crossing(object_id, start_point, end_point, direction, results):\n",
    "\n",
    "    for box in results[0].boxes:\n",
    "        if box.id.int().cpu() == object_id:\n",
    "\n",
    "            x, y, width, height = box.xywh.cpu().tolist()[0]\n",
    "\n",
    "            # Calculate the midpoint of the bounding box\n",
    "            x_mid = x + width / 2\n",
    "            y_mid = y + height / 2\n",
    "            \n",
    "            # Check if the midpoint crosses the line in the specified direction\n",
    "            if direction == \"left\" and x_mid < start_point[0]:\n",
    "                return True\n",
    "            elif direction == \"right\" and x_mid > start_point[0]:\n",
    "                return True\n",
    "            elif direction == \"up\" and y_mid < start_point[1]:\n",
    "                return True\n",
    "            elif direction == \"down\" and y_mid > start_point[1]:\n",
    "                return True\n",
    "    \n",
    "    return False"
   ]
  },
  {
   "cell_type": "code",
   "execution_count": null,
   "metadata": {},
   "outputs": [],
   "source": [
    "def play_alarm():\n",
    "    # Play the alarm sound for 3 seconds (3000 milliseconds)\n",
    "    winsound.Beep(1000, 2000)  \n",
    "\n",
    "# Function to check if object passes through the line in specific direction\n",
    "def check_and_alert(object_id, direction, results):\n",
    "    if check_line_crossing(object_id, start_point, end_point, direction, results):\n",
    "        # Start a new thread to play the alarm sound\n",
    "        alarm_thread = threading.Thread(target=play_alarm)\n",
    "        alarm_thread.start()"
   ]
  },
  {
   "cell_type": "code",
   "execution_count": null,
   "metadata": {},
   "outputs": [],
   "source": [
    "# Load the YOLOv8 model\n",
    "model = YOLO('yolov8n.pt')\n",
    "\n",
    "# Open the video file\n",
    "video_path = \"test_videos/1.mp4\"\n",
    "cap = cv2.VideoCapture(video_path)\n",
    "\n",
    "# Loop through the video frames\n",
    "while cap.isOpened():\n",
    "    # Read a frame from the video\n",
    "    success, frame = cap.read()\n",
    "\n",
    "    # Get the dimensions of the frame\n",
    "    # height, width, _ = frame.shape\n",
    "    # print(\"dimensions: \", height, width, _)\n",
    "\n",
    "\n",
    "    if success:\n",
    "        # Run YOLOv8 tracking on the frame, persisting tracks between frames\n",
    "        results = model.track(frame, persist=True)\n",
    "\n",
    "        # Visualize the results on the frame\n",
    "        boxes = results[0].boxes.xywh.cpu()\n",
    "        track_ids = results[0].boxes.id.int().cpu().tolist()\n",
    "\n",
    "        annotated_frame = results[0].plot()\n",
    "\n",
    "         # Draw the line on the frame\n",
    "        cv2.line(annotated_frame, start_point, end_point, line_color, line_thickness)\n",
    "\n",
    "        # Display the annotated frame\n",
    "        cv2.imshow(\"YOLOv9 Tracking\", annotated_frame)\n",
    "\n",
    "        # if check_line_crossing(8, start_point, end_point, \"right\", results):\n",
    "        check_and_alert(object_Ids[0], \"right\", results )\n",
    "\n",
    "        # Break the loop if 'q' is pressed\n",
    "        if cv2.waitKey(1) & 0xFF == ord(\"q\"):\n",
    "            break\n",
    "    else:\n",
    "        # Break the loop if the end of the video is reached\n",
    "        print(\"Error: Unable to read the frame.\")\n",
    "        break\n",
    "\n",
    "# Release the video capture object and close the display window\n",
    "cap.release()\n",
    "cv2.destroyAllWindows()"
   ]
  }
 ],
 "metadata": {
  "language_info": {
   "name": "python"
  },
  "orig_nbformat": 4
 },
 "nbformat": 4,
 "nbformat_minor": 2
}
